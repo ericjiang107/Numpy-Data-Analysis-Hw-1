{
 "cells": [
  {
   "cell_type": "markdown",
   "metadata": {},
   "source": [
    "# Exercises"
   ]
  },
  {
   "cell_type": "markdown",
   "metadata": {},
   "source": [
    "### #1 - Calculate the BMI (body mass index) on the two lists below using NDArrays..."
   ]
  },
  {
   "cell_type": "code",
   "execution_count": 9,
   "metadata": {},
   "outputs": [
    {
     "name": "stdout",
     "output_type": "stream",
     "text": [
      "[16.86620458 17.87755102 18.82562984 19.71450617 20.54794521 21.32943755\n",
      " 22.06222222]\n"
     ]
    }
   ],
   "source": [
    "import numpy as np\n",
    "# formula = weight / (height**2) * 730\n",
    "height = [69, 70, 71, 72, 73, 74, 75]\n",
    "weight = [110, 120, 130, 140, 150, 160, 170]\n",
    "\n",
    "# OUTPUT: [16.86620458 17.87755102 18.82562984 19.71450617 20.54794521 21.32943755\n",
    "# 22.06222222]\n",
    "\n",
    "ND_height = (np.array(height))\n",
    "ND_weight = (np.array(weight))\n",
    "print(ND_weight / ((ND_height)**2) * 730)\n"
   ]
  },
  {
   "cell_type": "markdown",
   "metadata": {},
   "source": [
    "### #2 - Create a function that will take in two parameters and will create a random matrix based off of those parameters. Extra: Have additional parameters taken in that allow the user to choose the shape and data type of the matrix."
   ]
  },
  {
   "cell_type": "code",
   "execution_count": 20,
   "metadata": {},
   "outputs": [
    {
     "data": {
      "text/plain": [
       "array([[16, 16,  6, 12],\n",
       "       [ 7,  6,  4,  3],\n",
       "       [15, 14,  3,  9],\n",
       "       [ 8,  6,  5,  8]])"
      ]
     },
     "execution_count": 20,
     "metadata": {},
     "output_type": "execute_result"
    }
   ],
   "source": [
    "\"\"\"\n",
    "Example Result\n",
    "array([[14.21633515,  7.98846653,  9.64140715],\n",
    "       [ 6.30982234,  9.96414331,  8.43153688],\n",
    "       [14.73102068, 11.76072894, 14.23356121]])\n",
    "\"\"\"\n",
    "# def makeMatrix(low,high,shape,data_type = float): -- Example\n",
    "#     pass\n",
    "\n",
    "def makeMatrix(low, high, shape, data_type):\n",
    "    test = np.random.randint(low, high, shape).astype(data_type)\n",
    "    return test\n",
    "\n",
    "makeMatrix(0, 20, (4,4), int)"
   ]
  },
  {
   "cell_type": "markdown",
   "metadata": {},
   "source": [
    "### #3 - Extra: Open and load the data in the two text files that have the Boston Red Sox hitting data for the past seasons. Compare the difference in the two years by putting the data into an NDArray and running a differencial operation on it. The column to look for will be SLG.\n",
    "\n",
    "Your output should display which year (either 2017 or 2018) was a better year based on SLG"
   ]
  },
  {
   "cell_type": "code",
   "execution_count": 21,
   "metadata": {},
   "outputs": [],
   "source": [
    "import csv\n",
    "import numpy as np\n",
    "\n",
    "#Test to make sure you have the correct data\n",
    "\n"
   ]
  },
  {
   "cell_type": "code",
   "execution_count": 40,
   "metadata": {},
   "outputs": [
    {
     "name": "stdout",
     "output_type": "stream",
     "text": [
      "\n",
      " [0.404 0.443 0.392 0.403 0.482 0.424 0.402 0.459 0.429 0.354 0.387 0.333\n",
      " 0.539 0.243 0.262 0.354 0.342 0.339 0.328 0.306 0.222 0.2   1.   ]\n",
      "\n",
      " [0.279 0.433 0.388 0.522 0.433 0.465 0.403 0.64  0.629 0.411 0.283 0.328\n",
      " 0.395 0.507 0.311 0.415 0.389 0.261 0.091 0.167]\n",
      "\n",
      " This is the sum for 2017: 9.04699994623661\n",
      "\n",
      " This is the sum for 2018: 7.750000067055225\n",
      "\n",
      " This is the len for 2017: 23\n",
      "\n",
      " This is the len for 2018: 20\n",
      "\n",
      " This is the average for 2017: 0.39334782374941785\n",
      "\n",
      " This is the average for 2018: 0.38750000335276125\n",
      "\n",
      " This is the difference between the two: 0.0058478203966566\n"
     ]
    }
   ],
   "source": [
    "\"\"\"\n",
    "Example Result - Not the actual result\n",
    "Boston 18 had more SLG in 2018\n",
    "[0.404 0.443 0.392 0.403 0.482 0.424 0.402 0.459 0.429 0.354 0.387 0.333\n",
    " 0.539 0.243 0.262 0.354 0.342 0.339 0.328 0.306 0.222 0.2   1.   ]\n",
    "\"\"\"\n",
    "\n",
    "FIELDS = ['Rk', 'Pos', 'Name', 'Age', 'G', 'PA', 'AB', 'R', 'H', '2B', '3B', 'HR', 'RBI', 'SB', 'CS', \n",
    "          'BB', 'SO', 'BA', 'OBP', 'SLG', 'OPS', 'OPS+', 'TB', 'GDP', 'HBP', 'SH', 'SF', 'IBB']\n",
    "\n",
    "DATATYPES = [('rk', 'i'), ('pos', '|S25'), ('name', '|S25'), ('age', 'i'), ('g', 'i'), ('pa', 'i'), ('ab', 'i'),\n",
    "                ('r', 'i'), ('h', 'i'), ('2b', 'i'), ('3b', 'i'), ('hr', 'i'), ('rbi', 'i'), ('sb', 'i'), ('cs', 'i'),\n",
    "                ('bb', 'i'), ('so', 'i'), ('ba', 'f'), ('obp', 'f'), ('slg', 'f'), ('ops', 'f'), ('opsp', 'i'),\n",
    "                ('tb', 'i'), ('gdp', 'i'), ('hbp', 'i'), ('sh', 'i'), ('sf', 'i'), ('ibb', 'i')]\n",
    "\n",
    "#Use this function to actually open the data inside of a NDArray\n",
    "\n",
    "def load_data(filepath, d=','):\n",
    "    data = np.genfromtxt(filepath, delimiter = d, skip_header = 1,\n",
    "                        usecols = np.arange(0,23), invalid_raise=False,\n",
    "                        names = FIELDS, dtype = DATATYPES)\n",
    "    return data\n",
    "\n",
    "bs2017 = load_data('../files/redsox_2017_hitting.txt')\n",
    "# print(bs2017)\n",
    "bs2018 = load_data('../files/redsox_2018_hitting.txt')\n",
    "# print(\"\\n\", bs2018)\n",
    "\n",
    "slg_17 = np.array(bs2017[\"SLG\"])\n",
    "print(\"\\n\", slg_17)\n",
    "\n",
    "slg_18 = np.array(bs2018[\"SLG\"])\n",
    "print(\"\\n\", slg_18)\n",
    "\n",
    "# Summing:\n",
    "sum_2017 = sum(slg_17)\n",
    "print(f\"\\n This is the sum for 2017:\", sum_2017)\n",
    "\n",
    "sum_2018 = sum(slg_18)\n",
    "print(f\"\\n This is the sum for 2018:\", sum_2018)\n",
    "\n",
    "# Length:\n",
    "len_2017 = len(slg_17)\n",
    "print(f\"\\n This is the len for 2017:\", len_2017)\n",
    "\n",
    "len_2018 = len(slg_18)\n",
    "print(f\"\\n This is the len for 2018:\", len_2018)\n",
    "\n",
    "# Average:\n",
    "ave_2017 = sum_2017/len_2017\n",
    "print(f\"\\n This is the average for 2017:\", ave_2017)\n",
    "\n",
    "ave_2018 = sum_2018/len_2018\n",
    "print(f\"\\n This is the average for 2018:\", ave_2018)\n",
    "\n",
    "# Diff between the two:\n",
    "diff = ave_2017 - ave_2018\n",
    "print(f\"\\n This is the difference between the two:\", diff)"
   ]
  },
  {
   "cell_type": "code",
   "execution_count": null,
   "metadata": {},
   "outputs": [],
   "source": []
  }
 ],
 "metadata": {
  "kernelspec": {
   "display_name": "Python 3",
   "language": "python",
   "name": "python3"
  },
  "language_info": {
   "codemirror_mode": {
    "name": "ipython",
    "version": 3
   },
   "file_extension": ".py",
   "mimetype": "text/x-python",
   "name": "python",
   "nbconvert_exporter": "python",
   "pygments_lexer": "ipython3",
   "version": "3.9.5"
  }
 },
 "nbformat": 4,
 "nbformat_minor": 2
}
